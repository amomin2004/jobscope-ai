{
 "cells": [
  {
   "cell_type": "markdown",
   "id": "93ca0de4",
   "metadata": {},
   "source": [
    "# Evaluvation of Baseline Linear Regression Model\n",
    "\n",
    "MSE : 0.3828943772369731\n",
    "MAE : 0.44795185947622396\n",
    "R2  : 0.6291844936082266"
   ]
  },
  {
   "cell_type": "markdown",
   "id": "45297057",
   "metadata": {},
   "source": [
    "# Evaluvation of Random Forest Model\n",
    "\n",
    "MSE : 0.42626648626007324\n",
    "MAE : 0.47265195227828877\n",
    "R2  : 0.5871806107443989"
   ]
  },
  {
   "cell_type": "markdown",
   "id": "effd7f46",
   "metadata": {},
   "source": [
    "# Evaluvation of Gradient Boost Model\n",
    "\n",
    "MSE : 0.354822073691458\n",
    "MAE : 0.4296418231051357\n",
    "R2  : 0.6563712220473628"
   ]
  },
  {
   "cell_type": "markdown",
   "id": "92a046ae",
   "metadata": {},
   "source": [
    "# Findings\n",
    "After evaluvating the metrics of these three models it can be seen that the Gradient Boost Model performs best out of the three"
   ]
  }
 ],
 "metadata": {
  "language_info": {
   "name": "python"
  }
 },
 "nbformat": 4,
 "nbformat_minor": 5
}
