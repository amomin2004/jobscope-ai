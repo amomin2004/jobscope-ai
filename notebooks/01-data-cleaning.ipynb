{
 "cells": [
  {
   "cell_type": "markdown",
   "id": "d2213dea",
   "metadata": {},
   "source": [
    "# Data Cleaning & Exploration - AI JOB MARKET EXPLORATION \n",
    "In this notebook, I will be merging the two Kaggle datasets into one "
   ]
  },
  {
   "cell_type": "code",
   "execution_count": 2,
   "id": "4e4fd196",
   "metadata": {},
   "outputs": [],
   "source": [
    "import pandas as pd\n",
    "import numpy as np\n",
    "import os"
   ]
  },
  {
   "cell_type": "markdown",
   "id": "ca734092",
   "metadata": {},
   "source": [
    "# Loading Raw Datasets\n",
    "Will read both raw datasets"
   ]
  },
  {
   "cell_type": "code",
   "execution_count": 3,
   "id": "d1cd69aa",
   "metadata": {},
   "outputs": [
    {
     "name": "stdout",
     "output_type": "stream",
     "text": [
      "Dataset 1: (15000, 19)\n",
      "Dataset 2: (15000, 20)\n"
     ]
    }
   ],
   "source": [
    "df1 = pd.read_csv(\"../data/raw/ai_job_dataset.csv\")\n",
    "df2 = pd.read_csv(\"../data/raw/ai_job_dataset1.csv\")\n",
    "\n",
    "print(\"Dataset 1:\", df1.shape)\n",
    "print(\"Dataset 2:\", df2.shape)\n"
   ]
  },
  {
   "cell_type": "markdown",
   "id": "c88cbdb2",
   "metadata": {},
   "source": [
    "# Merging the two\n",
    "Will be merging the two datasets"
   ]
  },
  {
   "cell_type": "code",
   "execution_count": null,
   "id": "fb1669e5",
   "metadata": {},
   "outputs": [
    {
     "name": "stdout",
     "output_type": "stream",
     "text": [
      "Merged dataset shape: (15000, 38)\n"
     ]
    }
   ],
   "source": [
    "merged_df = pd.merge(df1, df2, on='job_id', how='inner')\n",
    "print(\"Merged dataset shape:\", merged_df.shape)"
   ]
  },
  {
   "cell_type": "markdown",
   "id": "8e32aca3",
   "metadata": {},
   "source": [
    "# Understanding and Exlploring Data\n",
    "Will look into dataset"
   ]
  },
  {
   "cell_type": "code",
   "execution_count": 13,
   "id": "c8c6c589",
   "metadata": {},
   "outputs": [
    {
     "name": "stdout",
     "output_type": "stream",
     "text": [
      "<class 'pandas.core.frame.DataFrame'>\n",
      "RangeIndex: 15000 entries, 0 to 14999\n",
      "Data columns (total 38 columns):\n",
      " #   Column                    Non-Null Count  Dtype  \n",
      "---  ------                    --------------  -----  \n",
      " 0   job_id                    15000 non-null  object \n",
      " 1   job_title_x               15000 non-null  object \n",
      " 2   salary_usd_x              15000 non-null  int64  \n",
      " 3   salary_currency_x         15000 non-null  object \n",
      " 4   experience_level_x        15000 non-null  object \n",
      " 5   employment_type_x         15000 non-null  object \n",
      " 6   company_location_x        15000 non-null  object \n",
      " 7   company_size_x            15000 non-null  object \n",
      " 8   employee_residence_x      15000 non-null  object \n",
      " 9   remote_ratio_x            15000 non-null  int64  \n",
      " 10  required_skills_x         15000 non-null  object \n",
      " 11  education_required_x      15000 non-null  object \n",
      " 12  years_experience_x        15000 non-null  int64  \n",
      " 13  industry_x                15000 non-null  object \n",
      " 14  posting_date_x            15000 non-null  object \n",
      " 15  application_deadline_x    15000 non-null  object \n",
      " 16  job_description_length_x  15000 non-null  int64  \n",
      " 17  benefits_score_x          15000 non-null  float64\n",
      " 18  company_name_x            15000 non-null  object \n",
      " 19  job_title_y               15000 non-null  object \n",
      " 20  salary_usd_y              15000 non-null  int64  \n",
      " 21  salary_currency_y         15000 non-null  object \n",
      " 22  salary_local              15000 non-null  int64  \n",
      " 23  experience_level_y        15000 non-null  object \n",
      " 24  employment_type_y         15000 non-null  object \n",
      " 25  company_location_y        15000 non-null  object \n",
      " 26  company_size_y            15000 non-null  object \n",
      " 27  employee_residence_y      15000 non-null  object \n",
      " 28  remote_ratio_y            15000 non-null  int64  \n",
      " 29  required_skills_y         15000 non-null  object \n",
      " 30  education_required_y      15000 non-null  object \n",
      " 31  years_experience_y        15000 non-null  int64  \n",
      " 32  industry_y                15000 non-null  object \n",
      " 33  posting_date_y            15000 non-null  object \n",
      " 34  application_deadline_y    15000 non-null  object \n",
      " 35  job_description_length_y  15000 non-null  int64  \n",
      " 36  benefits_score_y          15000 non-null  float64\n",
      " 37  company_name_y            15000 non-null  object \n",
      "dtypes: float64(2), int64(9), object(27)\n",
      "memory usage: 4.3+ MB\n"
     ]
    },
    {
     "data": {
      "text/plain": [
       "job_id                      15000\n",
       "job_title_x                    20\n",
       "salary_usd_x                14315\n",
       "salary_currency_x               3\n",
       "experience_level_x              4\n",
       "employment_type_x               4\n",
       "company_location_x             20\n",
       "company_size_x                  3\n",
       "employee_residence_x           20\n",
       "remote_ratio_x                  3\n",
       "required_skills_x           13663\n",
       "education_required_x            4\n",
       "years_experience_x             20\n",
       "industry_x                     15\n",
       "posting_date_x                486\n",
       "application_deadline_x        543\n",
       "job_description_length_x     2000\n",
       "benefits_score_x               51\n",
       "company_name_x                 16\n",
       "job_title_y                    20\n",
       "salary_usd_y                14359\n",
       "salary_currency_y               8\n",
       "salary_local                14458\n",
       "experience_level_y              4\n",
       "employment_type_y               4\n",
       "company_location_y             20\n",
       "company_size_y                  3\n",
       "employee_residence_y           50\n",
       "remote_ratio_y                  3\n",
       "required_skills_y           13651\n",
       "education_required_y            4\n",
       "years_experience_y             20\n",
       "industry_y                     15\n",
       "posting_date_y                486\n",
       "application_deadline_y        543\n",
       "job_description_length_y     2000\n",
       "benefits_score_y               51\n",
       "company_name_y                 16\n",
       "dtype: int64"
      ]
     },
     "execution_count": 13,
     "metadata": {},
     "output_type": "execute_result"
    }
   ],
   "source": [
    "merged_df.info()\n",
    "merged_df.describe()\n",
    "merged_df.columns\n",
    "merged_df.nunique()\n"
   ]
  },
  {
   "cell_type": "code",
   "execution_count": 14,
   "id": "489c9d6b",
   "metadata": {},
   "outputs": [
    {
     "data": {
      "text/plain": [
       "job_id                      0\n",
       "remote_ratio_y              0\n",
       "salary_currency_y           0\n",
       "salary_local                0\n",
       "experience_level_y          0\n",
       "employment_type_y           0\n",
       "company_location_y          0\n",
       "company_size_y              0\n",
       "employee_residence_y        0\n",
       "required_skills_y           0\n",
       "job_title_x                 0\n",
       "education_required_y        0\n",
       "years_experience_y          0\n",
       "industry_y                  0\n",
       "posting_date_y              0\n",
       "application_deadline_y      0\n",
       "job_description_length_y    0\n",
       "benefits_score_y            0\n",
       "salary_usd_y                0\n",
       "job_title_y                 0\n",
       "company_name_x              0\n",
       "benefits_score_x            0\n",
       "salary_usd_x                0\n",
       "salary_currency_x           0\n",
       "experience_level_x          0\n",
       "employment_type_x           0\n",
       "company_location_x          0\n",
       "company_size_x              0\n",
       "employee_residence_x        0\n",
       "remote_ratio_x              0\n",
       "required_skills_x           0\n",
       "education_required_x        0\n",
       "years_experience_x          0\n",
       "industry_x                  0\n",
       "posting_date_x              0\n",
       "application_deadline_x      0\n",
       "job_description_length_x    0\n",
       "company_name_y              0\n",
       "dtype: int64"
      ]
     },
     "execution_count": 14,
     "metadata": {},
     "output_type": "execute_result"
    }
   ],
   "source": [
    "merged_df.isnull().sum().sort_values(ascending=False)"
   ]
  },
  {
   "cell_type": "markdown",
   "id": "986ff867",
   "metadata": {},
   "source": [
    "# Cleaning & Organizing Dataset as to how I want it\n",
    "Will be dropping Salary_Local Column\n",
    "Will be moving the _y data vertically to essentially have 300000 different job_id\n",
    "Will be standardizing the data (no mor _x and _y labels)"
   ]
  },
  {
   "cell_type": "code",
   "execution_count": 22,
   "id": "8eac3658",
   "metadata": {},
   "outputs": [
    {
     "data": {
      "text/html": [
       "<div>\n",
       "<style scoped>\n",
       "    .dataframe tbody tr th:only-of-type {\n",
       "        vertical-align: middle;\n",
       "    }\n",
       "\n",
       "    .dataframe tbody tr th {\n",
       "        vertical-align: top;\n",
       "    }\n",
       "\n",
       "    .dataframe thead th {\n",
       "        text-align: right;\n",
       "    }\n",
       "</style>\n",
       "<table border=\"1\" class=\"dataframe\">\n",
       "  <thead>\n",
       "    <tr style=\"text-align: right;\">\n",
       "      <th></th>\n",
       "      <th>job_id</th>\n",
       "      <th>job_title</th>\n",
       "      <th>salary_usd</th>\n",
       "      <th>salary_currency</th>\n",
       "      <th>experience_level</th>\n",
       "      <th>employment_type</th>\n",
       "      <th>company_location</th>\n",
       "      <th>company_size</th>\n",
       "      <th>employee_residence</th>\n",
       "      <th>remote_ratio</th>\n",
       "      <th>required_skills</th>\n",
       "      <th>education_required</th>\n",
       "      <th>years_experience</th>\n",
       "      <th>industry</th>\n",
       "      <th>posting_date</th>\n",
       "      <th>application_deadline</th>\n",
       "      <th>job_description_length</th>\n",
       "      <th>benefits_score</th>\n",
       "      <th>company_name</th>\n",
       "    </tr>\n",
       "  </thead>\n",
       "  <tbody>\n",
       "    <tr>\n",
       "      <th>15000</th>\n",
       "      <td>AI15001</td>\n",
       "      <td>Data Scientist</td>\n",
       "      <td>219728</td>\n",
       "      <td>USD</td>\n",
       "      <td>EX</td>\n",
       "      <td>PT</td>\n",
       "      <td>Sweden</td>\n",
       "      <td>M</td>\n",
       "      <td>Sweden</td>\n",
       "      <td>0</td>\n",
       "      <td>Python, Computer Vision, R, Docker</td>\n",
       "      <td>Associate</td>\n",
       "      <td>13</td>\n",
       "      <td>Transportation</td>\n",
       "      <td>2024-09-23</td>\n",
       "      <td>2024-10-31</td>\n",
       "      <td>1132</td>\n",
       "      <td>6.6</td>\n",
       "      <td>TechCorp Inc</td>\n",
       "    </tr>\n",
       "  </tbody>\n",
       "</table>\n",
       "</div>"
      ],
      "text/plain": [
       "        job_id       job_title  salary_usd salary_currency experience_level  \\\n",
       "15000  AI15001  Data Scientist      219728             USD               EX   \n",
       "\n",
       "      employment_type company_location company_size employee_residence  \\\n",
       "15000              PT           Sweden            M             Sweden   \n",
       "\n",
       "       remote_ratio                     required_skills education_required  \\\n",
       "15000             0  Python, Computer Vision, R, Docker          Associate   \n",
       "\n",
       "       years_experience        industry posting_date application_deadline  \\\n",
       "15000                13  Transportation   2024-09-23           2024-10-31   \n",
       "\n",
       "       job_description_length  benefits_score  company_name  \n",
       "15000                    1132             6.6  TechCorp Inc  "
      ]
     },
     "execution_count": 22,
     "metadata": {},
     "output_type": "execute_result"
    }
   ],
   "source": [
    "# 1. Drop salary_local\n",
    "merged_df = merged_df.drop(columns=['salary_local'], errors='ignore')\n",
    "\n",
    "# 2. Split _x and _y datasets (plus job_id for both)\n",
    "x_cols = ['job_id'] + [col for col in merged_df.columns if col.endswith('_x')]\n",
    "y_cols = ['job_id'] + [col for col in merged_df.columns if col.endswith('_y')]\n",
    "\n",
    "df_x = merged_df[x_cols].copy()\n",
    "df_y = merged_df[y_cols].copy()\n",
    "\n",
    "# 3. Rename columns: remove _x and _y suffixes\n",
    "df_x.columns = ['job_id'] + [col.replace('_x', '') for col in df_x.columns if col != 'job_id']\n",
    "df_y.columns = ['job_id'] + [col.replace('_y', '') for col in df_y.columns if col != 'job_id']\n",
    "\n",
    "# 4. Stack vertically (ignore old job_id for now)\n",
    "df_combined = pd.concat([df_x, df_y], axis=0).reset_index(drop=True)\n",
    "\n",
    "# 5. Reassign job_ids from AI00001 to AI30000\n",
    "df_combined['job_id'] = ['AI' + str(i).zfill(5) for i in range(1, len(df_combined) + 1)]\n",
    "\n",
    "df_combined[df_combined['job_id'] == 'AI15001']\n",
    "\n",
    "\n"
   ]
  },
  {
   "cell_type": "markdown",
   "id": "3445ceeb",
   "metadata": {},
   "source": [
    "# Save the combined data set\n"
   ]
  },
  {
   "cell_type": "code",
   "execution_count": 23,
   "id": "e1ab0092",
   "metadata": {},
   "outputs": [
    {
     "name": "stdout",
     "output_type": "stream",
     "text": [
      "Saved combined dataset to: ../data/processed/ai_job_dataset_combined.csv\n"
     ]
    }
   ],
   "source": [
    "# Save to processed CSV\n",
    "output_path = '../data/processed/ai_job_dataset_combined.csv'\n",
    "df_combined.to_csv(output_path, index=False)\n",
    "\n",
    "print(f\"Saved combined dataset to: {output_path}\")\n"
   ]
  }
 ],
 "metadata": {
  "kernelspec": {
   "display_name": "venv",
   "language": "python",
   "name": "python3"
  },
  "language_info": {
   "codemirror_mode": {
    "name": "ipython",
    "version": 3
   },
   "file_extension": ".py",
   "mimetype": "text/x-python",
   "name": "python",
   "nbconvert_exporter": "python",
   "pygments_lexer": "ipython3",
   "version": "3.13.3"
  }
 },
 "nbformat": 4,
 "nbformat_minor": 5
}
